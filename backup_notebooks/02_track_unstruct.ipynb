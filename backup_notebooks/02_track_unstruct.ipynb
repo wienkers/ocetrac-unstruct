{
 "cells": [
  {
   "cell_type": "markdown",
   "id": "5b7d3a1a",
   "metadata": {},
   "source": [
    "# Use `ocetrac-unstruct` to identify and track marine heatwaves\n",
    "This example using 40 years of Daily outputs at 5km native grid resolution takes ~45 minutes on 512 cores."
   ]
  },
  {
   "cell_type": "code",
   "execution_count": 1,
   "id": "6b337539",
   "metadata": {},
   "outputs": [],
   "source": [
    "import xarray as xr\n",
    "import numpy as np\n",
    "import dask\n",
    "import ocetrac_unstruct\n",
    "\n",
    "from tempfile import TemporaryDirectory\n",
    "from getpass import getuser\n",
    "from pathlib import Path\n",
    "from dask_jobqueue import SLURMCluster\n",
    "from dask.distributed import Client, LocalCluster\n",
    "import subprocess\n",
    "import re\n",
    "\n",
    "import warnings\n",
    "warnings.filterwarnings('ignore')"
   ]
  },
  {
   "cell_type": "code",
   "execution_count": 2,
   "id": "bf0212e6",
   "metadata": {},
   "outputs": [],
   "source": [
    "scratch_dir = Path('/scratch') / getuser()[0] / getuser() / 'mhws' "
   ]
  },
  {
   "cell_type": "markdown",
   "id": "b5f13429",
   "metadata": {},
   "source": [
    "## Start Dask Cluster"
   ]
  },
  {
   "cell_type": "code",
   "execution_count": 3,
   "id": "310fd2ef",
   "metadata": {},
   "outputs": [
    {
     "data": {
      "text/plain": [
       "<dask.config.set at 0x155536e7dc90>"
      ]
     },
     "execution_count": 3,
     "metadata": {},
     "output_type": "execute_result"
    }
   ],
   "source": [
    "cluster_scratch = Path('/scratch') / getuser()[0] / getuser() / 'clients'\n",
    "dask_tmp_dir = TemporaryDirectory(dir=cluster_scratch)\n",
    "dask.config.set(temporary_directory=dask_tmp_dir.name)"
   ]
  },
  {
   "cell_type": "code",
   "execution_count": 4,
   "id": "f4c66b1c",
   "metadata": {},
   "outputs": [
    {
     "name": "stdout",
     "output_type": "stream",
     "text": [
      "Forward with Port = l40243:8787\n"
     ]
    },
    {
     "data": {
      "text/plain": [
       "'http://127.0.0.1:8787/status'"
      ]
     },
     "execution_count": 4,
     "metadata": {},
     "output_type": "execute_result"
    }
   ],
   "source": [
    "## GPU Cluster (Local)\n",
    "cluster = LocalCluster(n_workers=16, threads_per_worker=4)\n",
    "client = Client(cluster)\n",
    "#client\n",
    "\n",
    "remote_node = subprocess.run(['hostname'], capture_output=True, text=True).stdout.strip().split('.')[0]\n",
    "port = re.search(r':(\\d+)/', client.dashboard_link).group(1)\n",
    "print(f\"Forward with Port = {remote_node}:{port}\")\n",
    "\n",
    "client.dashboard_link"
   ]
  },
  {
   "cell_type": "code",
   "execution_count": 5,
   "id": "f9c7f6a3",
   "metadata": {},
   "outputs": [],
   "source": [
    "# scale = 512\n",
    "\n",
    "# ## Distributed Cluster (without GPU)\n",
    "# clusterDistributed = SLURMCluster(name='dask-cluster',\n",
    "#                                     cores=16,\n",
    "#                                     memory='500GB',\n",
    "#                                     processes=64,  # 4 threads\n",
    "#                                     interface='ib0',\n",
    "#                                     queue='compute',\n",
    "#                                     account='bk1377',\n",
    "#                                     walltime='00:59:00',\n",
    "#                                     asynchronous=0,\n",
    "#                                     job_extra_directives = [f'--constraint=512G --mem=0'],\n",
    "#                                     log_directory=f'/home/b/{getuser()}/.log_trash',\n",
    "#                                     local_directory=dask_tmp_dir.name,\n",
    "#                                     scheduler_options={'dashboard_address': ':8889'})\n",
    "\n",
    "# clusterDistributed.scale(scale)\n",
    "# clientDistributed = Client(clusterDistributed)\n",
    "# remote_node = subprocess.run(['hostname'], capture_output=True, text=True).stdout.strip().split('.')[0]\n",
    "# port = re.search(r':(\\d+)/', clientDistributed.dashboard_link).group(1)\n",
    "# print(f\"Forward Port = {remote_node}:{port}\")\n",
    "# print(f\"localhost:{port}/status\")"
   ]
  },
  {
   "cell_type": "markdown",
   "id": "b0b29f1d-a7f3-4db5-bab3-a7785d4da7e1",
   "metadata": {},
   "source": [
    "## Load Pre-processed Data\n",
    "(cf. `01_preprocess_unstruct.ipynb`)"
   ]
  },
  {
   "cell_type": "code",
   "execution_count": 6,
   "id": "66a21e23-427a-4f6f-9a91-fa2ae628f148",
   "metadata": {
    "tags": []
   },
   "outputs": [],
   "source": [
    "chunk_size = {'time': 4}\n",
    "time_subset = slice(365*2,-1)  # Skip the first 2 years\n",
    "ds = xr.open_zarr(str(scratch_dir / '01_preprocess_unstruct.zarr'), chunks={'time': 2, 'ncells': -1}).drop_vars({'decimal_year', 'dayofyear'}).isel(time=time_subset).chunk(chunk_size)"
   ]
  },
  {
   "cell_type": "code",
   "execution_count": 7,
   "id": "14473bb1",
   "metadata": {
    "tags": []
   },
   "outputs": [
    {
     "data": {
      "text/html": [
       "<div><svg style=\"position: absolute; width: 0; height: 0; overflow: hidden\">\n",
       "<defs>\n",
       "<symbol id=\"icon-database\" viewBox=\"0 0 32 32\">\n",
       "<path d=\"M16 0c-8.837 0-16 2.239-16 5v4c0 2.761 7.163 5 16 5s16-2.239 16-5v-4c0-2.761-7.163-5-16-5z\"></path>\n",
       "<path d=\"M16 17c-8.837 0-16-2.239-16-5v6c0 2.761 7.163 5 16 5s16-2.239 16-5v-6c0 2.761-7.163 5-16 5z\"></path>\n",
       "<path d=\"M16 26c-8.837 0-16-2.239-16-5v6c0 2.761 7.163 5 16 5s16-2.239 16-5v-6c0 2.761-7.163 5-16 5z\"></path>\n",
       "</symbol>\n",
       "<symbol id=\"icon-file-text2\" viewBox=\"0 0 32 32\">\n",
       "<path d=\"M28.681 7.159c-0.694-0.947-1.662-2.053-2.724-3.116s-2.169-2.030-3.116-2.724c-1.612-1.182-2.393-1.319-2.841-1.319h-15.5c-1.378 0-2.5 1.121-2.5 2.5v27c0 1.378 1.122 2.5 2.5 2.5h23c1.378 0 2.5-1.122 2.5-2.5v-19.5c0-0.448-0.137-1.23-1.319-2.841zM24.543 5.457c0.959 0.959 1.712 1.825 2.268 2.543h-4.811v-4.811c0.718 0.556 1.584 1.309 2.543 2.268zM28 29.5c0 0.271-0.229 0.5-0.5 0.5h-23c-0.271 0-0.5-0.229-0.5-0.5v-27c0-0.271 0.229-0.5 0.5-0.5 0 0 15.499-0 15.5 0v7c0 0.552 0.448 1 1 1h7v19.5z\"></path>\n",
       "<path d=\"M23 26h-14c-0.552 0-1-0.448-1-1s0.448-1 1-1h14c0.552 0 1 0.448 1 1s-0.448 1-1 1z\"></path>\n",
       "<path d=\"M23 22h-14c-0.552 0-1-0.448-1-1s0.448-1 1-1h14c0.552 0 1 0.448 1 1s-0.448 1-1 1z\"></path>\n",
       "<path d=\"M23 18h-14c-0.552 0-1-0.448-1-1s0.448-1 1-1h14c0.552 0 1 0.448 1 1s-0.448 1-1 1z\"></path>\n",
       "</symbol>\n",
       "</defs>\n",
       "</svg>\n",
       "<style>/* CSS stylesheet for displaying xarray objects in jupyterlab.\n",
       " *\n",
       " */\n",
       "\n",
       ":root {\n",
       "  --xr-font-color0: var(--jp-content-font-color0, rgba(0, 0, 0, 1));\n",
       "  --xr-font-color2: var(--jp-content-font-color2, rgba(0, 0, 0, 0.54));\n",
       "  --xr-font-color3: var(--jp-content-font-color3, rgba(0, 0, 0, 0.38));\n",
       "  --xr-border-color: var(--jp-border-color2, #e0e0e0);\n",
       "  --xr-disabled-color: var(--jp-layout-color3, #bdbdbd);\n",
       "  --xr-background-color: var(--jp-layout-color0, white);\n",
       "  --xr-background-color-row-even: var(--jp-layout-color1, white);\n",
       "  --xr-background-color-row-odd: var(--jp-layout-color2, #eeeeee);\n",
       "}\n",
       "\n",
       "html[theme=dark],\n",
       "html[data-theme=dark],\n",
       "body[data-theme=dark],\n",
       "body.vscode-dark {\n",
       "  --xr-font-color0: rgba(255, 255, 255, 1);\n",
       "  --xr-font-color2: rgba(255, 255, 255, 0.54);\n",
       "  --xr-font-color3: rgba(255, 255, 255, 0.38);\n",
       "  --xr-border-color: #1F1F1F;\n",
       "  --xr-disabled-color: #515151;\n",
       "  --xr-background-color: #111111;\n",
       "  --xr-background-color-row-even: #111111;\n",
       "  --xr-background-color-row-odd: #313131;\n",
       "}\n",
       "\n",
       ".xr-wrap {\n",
       "  display: block !important;\n",
       "  min-width: 300px;\n",
       "  max-width: 700px;\n",
       "}\n",
       "\n",
       ".xr-text-repr-fallback {\n",
       "  /* fallback to plain text repr when CSS is not injected (untrusted notebook) */\n",
       "  display: none;\n",
       "}\n",
       "\n",
       ".xr-header {\n",
       "  padding-top: 6px;\n",
       "  padding-bottom: 6px;\n",
       "  margin-bottom: 4px;\n",
       "  border-bottom: solid 1px var(--xr-border-color);\n",
       "}\n",
       "\n",
       ".xr-header > div,\n",
       ".xr-header > ul {\n",
       "  display: inline;\n",
       "  margin-top: 0;\n",
       "  margin-bottom: 0;\n",
       "}\n",
       "\n",
       ".xr-obj-type,\n",
       ".xr-array-name {\n",
       "  margin-left: 2px;\n",
       "  margin-right: 10px;\n",
       "}\n",
       "\n",
       ".xr-obj-type {\n",
       "  color: var(--xr-font-color2);\n",
       "}\n",
       "\n",
       ".xr-sections {\n",
       "  padding-left: 0 !important;\n",
       "  display: grid;\n",
       "  grid-template-columns: 150px auto auto 1fr 0 20px 0 20px;\n",
       "}\n",
       "\n",
       ".xr-section-item {\n",
       "  display: contents;\n",
       "}\n",
       "\n",
       ".xr-section-item input {\n",
       "  display: inline-block;\n",
       "  opacity: 0;\n",
       "}\n",
       "\n",
       ".xr-section-item input + label {\n",
       "  color: var(--xr-disabled-color);\n",
       "}\n",
       "\n",
       ".xr-section-item input:enabled + label {\n",
       "  cursor: pointer;\n",
       "  color: var(--xr-font-color2);\n",
       "}\n",
       "\n",
       ".xr-section-item input:focus + label {\n",
       "  border: 2px solid var(--xr-font-color0);\n",
       "}\n",
       "\n",
       ".xr-section-item input:enabled + label:hover {\n",
       "  color: var(--xr-font-color0);\n",
       "}\n",
       "\n",
       ".xr-section-summary {\n",
       "  grid-column: 1;\n",
       "  color: var(--xr-font-color2);\n",
       "  font-weight: 500;\n",
       "}\n",
       "\n",
       ".xr-section-summary > span {\n",
       "  display: inline-block;\n",
       "  padding-left: 0.5em;\n",
       "}\n",
       "\n",
       ".xr-section-summary-in:disabled + label {\n",
       "  color: var(--xr-font-color2);\n",
       "}\n",
       "\n",
       ".xr-section-summary-in + label:before {\n",
       "  display: inline-block;\n",
       "  content: '►';\n",
       "  font-size: 11px;\n",
       "  width: 15px;\n",
       "  text-align: center;\n",
       "}\n",
       "\n",
       ".xr-section-summary-in:disabled + label:before {\n",
       "  color: var(--xr-disabled-color);\n",
       "}\n",
       "\n",
       ".xr-section-summary-in:checked + label:before {\n",
       "  content: '▼';\n",
       "}\n",
       "\n",
       ".xr-section-summary-in:checked + label > span {\n",
       "  display: none;\n",
       "}\n",
       "\n",
       ".xr-section-summary,\n",
       ".xr-section-inline-details {\n",
       "  padding-top: 4px;\n",
       "  padding-bottom: 4px;\n",
       "}\n",
       "\n",
       ".xr-section-inline-details {\n",
       "  grid-column: 2 / -1;\n",
       "}\n",
       "\n",
       ".xr-section-details {\n",
       "  display: none;\n",
       "  grid-column: 1 / -1;\n",
       "  margin-bottom: 5px;\n",
       "}\n",
       "\n",
       ".xr-section-summary-in:checked ~ .xr-section-details {\n",
       "  display: contents;\n",
       "}\n",
       "\n",
       ".xr-array-wrap {\n",
       "  grid-column: 1 / -1;\n",
       "  display: grid;\n",
       "  grid-template-columns: 20px auto;\n",
       "}\n",
       "\n",
       ".xr-array-wrap > label {\n",
       "  grid-column: 1;\n",
       "  vertical-align: top;\n",
       "}\n",
       "\n",
       ".xr-preview {\n",
       "  color: var(--xr-font-color3);\n",
       "}\n",
       "\n",
       ".xr-array-preview,\n",
       ".xr-array-data {\n",
       "  padding: 0 5px !important;\n",
       "  grid-column: 2;\n",
       "}\n",
       "\n",
       ".xr-array-data,\n",
       ".xr-array-in:checked ~ .xr-array-preview {\n",
       "  display: none;\n",
       "}\n",
       "\n",
       ".xr-array-in:checked ~ .xr-array-data,\n",
       ".xr-array-preview {\n",
       "  display: inline-block;\n",
       "}\n",
       "\n",
       ".xr-dim-list {\n",
       "  display: inline-block !important;\n",
       "  list-style: none;\n",
       "  padding: 0 !important;\n",
       "  margin: 0;\n",
       "}\n",
       "\n",
       ".xr-dim-list li {\n",
       "  display: inline-block;\n",
       "  padding: 0;\n",
       "  margin: 0;\n",
       "}\n",
       "\n",
       ".xr-dim-list:before {\n",
       "  content: '(';\n",
       "}\n",
       "\n",
       ".xr-dim-list:after {\n",
       "  content: ')';\n",
       "}\n",
       "\n",
       ".xr-dim-list li:not(:last-child):after {\n",
       "  content: ',';\n",
       "  padding-right: 5px;\n",
       "}\n",
       "\n",
       ".xr-has-index {\n",
       "  font-weight: bold;\n",
       "}\n",
       "\n",
       ".xr-var-list,\n",
       ".xr-var-item {\n",
       "  display: contents;\n",
       "}\n",
       "\n",
       ".xr-var-item > div,\n",
       ".xr-var-item label,\n",
       ".xr-var-item > .xr-var-name span {\n",
       "  background-color: var(--xr-background-color-row-even);\n",
       "  margin-bottom: 0;\n",
       "}\n",
       "\n",
       ".xr-var-item > .xr-var-name:hover span {\n",
       "  padding-right: 5px;\n",
       "}\n",
       "\n",
       ".xr-var-list > li:nth-child(odd) > div,\n",
       ".xr-var-list > li:nth-child(odd) > label,\n",
       ".xr-var-list > li:nth-child(odd) > .xr-var-name span {\n",
       "  background-color: var(--xr-background-color-row-odd);\n",
       "}\n",
       "\n",
       ".xr-var-name {\n",
       "  grid-column: 1;\n",
       "}\n",
       "\n",
       ".xr-var-dims {\n",
       "  grid-column: 2;\n",
       "}\n",
       "\n",
       ".xr-var-dtype {\n",
       "  grid-column: 3;\n",
       "  text-align: right;\n",
       "  color: var(--xr-font-color2);\n",
       "}\n",
       "\n",
       ".xr-var-preview {\n",
       "  grid-column: 4;\n",
       "}\n",
       "\n",
       ".xr-index-preview {\n",
       "  grid-column: 2 / 5;\n",
       "  color: var(--xr-font-color2);\n",
       "}\n",
       "\n",
       ".xr-var-name,\n",
       ".xr-var-dims,\n",
       ".xr-var-dtype,\n",
       ".xr-preview,\n",
       ".xr-attrs dt {\n",
       "  white-space: nowrap;\n",
       "  overflow: hidden;\n",
       "  text-overflow: ellipsis;\n",
       "  padding-right: 10px;\n",
       "}\n",
       "\n",
       ".xr-var-name:hover,\n",
       ".xr-var-dims:hover,\n",
       ".xr-var-dtype:hover,\n",
       ".xr-attrs dt:hover {\n",
       "  overflow: visible;\n",
       "  width: auto;\n",
       "  z-index: 1;\n",
       "}\n",
       "\n",
       ".xr-var-attrs,\n",
       ".xr-var-data,\n",
       ".xr-index-data {\n",
       "  display: none;\n",
       "  background-color: var(--xr-background-color) !important;\n",
       "  padding-bottom: 5px !important;\n",
       "}\n",
       "\n",
       ".xr-var-attrs-in:checked ~ .xr-var-attrs,\n",
       ".xr-var-data-in:checked ~ .xr-var-data,\n",
       ".xr-index-data-in:checked ~ .xr-index-data {\n",
       "  display: block;\n",
       "}\n",
       "\n",
       ".xr-var-data > table {\n",
       "  float: right;\n",
       "}\n",
       "\n",
       ".xr-var-name span,\n",
       ".xr-var-data,\n",
       ".xr-index-name div,\n",
       ".xr-index-data,\n",
       ".xr-attrs {\n",
       "  padding-left: 25px !important;\n",
       "}\n",
       "\n",
       ".xr-attrs,\n",
       ".xr-var-attrs,\n",
       ".xr-var-data,\n",
       ".xr-index-data {\n",
       "  grid-column: 1 / -1;\n",
       "}\n",
       "\n",
       "dl.xr-attrs {\n",
       "  padding: 0;\n",
       "  margin: 0;\n",
       "  display: grid;\n",
       "  grid-template-columns: 125px auto;\n",
       "}\n",
       "\n",
       ".xr-attrs dt,\n",
       ".xr-attrs dd {\n",
       "  padding: 0;\n",
       "  margin: 0;\n",
       "  float: left;\n",
       "  padding-right: 10px;\n",
       "  width: auto;\n",
       "}\n",
       "\n",
       ".xr-attrs dt {\n",
       "  font-weight: normal;\n",
       "  grid-column: 1;\n",
       "}\n",
       "\n",
       ".xr-attrs dt:hover span {\n",
       "  display: inline-block;\n",
       "  background: var(--xr-background-color);\n",
       "  padding-right: 10px;\n",
       "}\n",
       "\n",
       ".xr-attrs dd {\n",
       "  grid-column: 2;\n",
       "  white-space: pre-wrap;\n",
       "  word-break: break-all;\n",
       "}\n",
       "\n",
       ".xr-icon-database,\n",
       ".xr-icon-file-text2,\n",
       ".xr-no-icon {\n",
       "  display: inline-block;\n",
       "  vertical-align: middle;\n",
       "  width: 1em;\n",
       "  height: 1.5em !important;\n",
       "  stroke-width: 0;\n",
       "  stroke: currentColor;\n",
       "  fill: currentColor;\n",
       "}\n",
       "</style><pre class='xr-text-repr-fallback'>&lt;xarray.DataArray &#x27;features_notrend&#x27; (time: 13148, ncells: 14886338)&gt; Size: 196GB\n",
       "dask.array&lt;rechunk-merge, shape=(13148, 14886338), dtype=bool, chunksize=(4, 14886338), chunktype=numpy.ndarray&gt;\n",
       "Coordinates:\n",
       "  * ncells   (ncells) int64 119MB 0 1 2 3 ... 14886335 14886336 14886337\n",
       "  * time     (time) datetime64[ns] 105kB 2004-01-01T23:59:00 ... 2039-12-30T2...</pre><div class='xr-wrap' style='display:none'><div class='xr-header'><div class='xr-obj-type'>xarray.DataArray</div><div class='xr-array-name'>'features_notrend'</div><ul class='xr-dim-list'><li><span class='xr-has-index'>time</span>: 13148</li><li><span class='xr-has-index'>ncells</span>: 14886338</li></ul></div><ul class='xr-sections'><li class='xr-section-item'><div class='xr-array-wrap'><input id='section-58bf4324-2a08-4302-8206-c4a47e215041' class='xr-array-in' type='checkbox' checked><label for='section-58bf4324-2a08-4302-8206-c4a47e215041' title='Show/hide data repr'><svg class='icon xr-icon-database'><use xlink:href='#icon-database'></use></svg></label><div class='xr-array-preview xr-preview'><span>dask.array&lt;chunksize=(4, 14886338), meta=np.ndarray&gt;</span></div><div class='xr-array-data'><table>\n",
       "    <tr>\n",
       "        <td>\n",
       "            <table style=\"border-collapse: collapse;\">\n",
       "                <thead>\n",
       "                    <tr>\n",
       "                        <td> </td>\n",
       "                        <th> Array </th>\n",
       "                        <th> Chunk </th>\n",
       "                    </tr>\n",
       "                </thead>\n",
       "                <tbody>\n",
       "                    \n",
       "                    <tr>\n",
       "                        <th> Bytes </th>\n",
       "                        <td> 182.28 GiB </td>\n",
       "                        <td> 56.79 MiB </td>\n",
       "                    </tr>\n",
       "                    \n",
       "                    <tr>\n",
       "                        <th> Shape </th>\n",
       "                        <td> (13148, 14886338) </td>\n",
       "                        <td> (4, 14886338) </td>\n",
       "                    </tr>\n",
       "                    <tr>\n",
       "                        <th> Dask graph </th>\n",
       "                        <td colspan=\"2\"> 3287 chunks in 4 graph layers </td>\n",
       "                    </tr>\n",
       "                    <tr>\n",
       "                        <th> Data type </th>\n",
       "                        <td colspan=\"2\"> bool numpy.ndarray </td>\n",
       "                    </tr>\n",
       "                </tbody>\n",
       "            </table>\n",
       "        </td>\n",
       "        <td>\n",
       "        <svg width=\"170\" height=\"75\" style=\"stroke:rgb(0,0,0);stroke-width:1\" >\n",
       "\n",
       "  <!-- Horizontal lines -->\n",
       "  <line x1=\"0\" y1=\"0\" x2=\"120\" y2=\"0\" style=\"stroke-width:2\" />\n",
       "  <line x1=\"0\" y1=\"1\" x2=\"120\" y2=\"1\" />\n",
       "  <line x1=\"0\" y1=\"2\" x2=\"120\" y2=\"2\" />\n",
       "  <line x1=\"0\" y1=\"4\" x2=\"120\" y2=\"4\" />\n",
       "  <line x1=\"0\" y1=\"5\" x2=\"120\" y2=\"5\" />\n",
       "  <line x1=\"0\" y1=\"6\" x2=\"120\" y2=\"6\" />\n",
       "  <line x1=\"0\" y1=\"8\" x2=\"120\" y2=\"8\" />\n",
       "  <line x1=\"0\" y1=\"9\" x2=\"120\" y2=\"9\" />\n",
       "  <line x1=\"0\" y1=\"10\" x2=\"120\" y2=\"10\" />\n",
       "  <line x1=\"0\" y1=\"12\" x2=\"120\" y2=\"12\" />\n",
       "  <line x1=\"0\" y1=\"13\" x2=\"120\" y2=\"13\" />\n",
       "  <line x1=\"0\" y1=\"14\" x2=\"120\" y2=\"14\" />\n",
       "  <line x1=\"0\" y1=\"16\" x2=\"120\" y2=\"16\" />\n",
       "  <line x1=\"0\" y1=\"17\" x2=\"120\" y2=\"17\" />\n",
       "  <line x1=\"0\" y1=\"18\" x2=\"120\" y2=\"18\" />\n",
       "  <line x1=\"0\" y1=\"20\" x2=\"120\" y2=\"20\" />\n",
       "  <line x1=\"0\" y1=\"21\" x2=\"120\" y2=\"21\" />\n",
       "  <line x1=\"0\" y1=\"22\" x2=\"120\" y2=\"22\" />\n",
       "  <line x1=\"0\" y1=\"24\" x2=\"120\" y2=\"24\" />\n",
       "  <line x1=\"0\" y1=\"25\" x2=\"120\" y2=\"25\" style=\"stroke-width:2\" />\n",
       "\n",
       "  <!-- Vertical lines -->\n",
       "  <line x1=\"0\" y1=\"0\" x2=\"0\" y2=\"25\" style=\"stroke-width:2\" />\n",
       "  <line x1=\"120\" y1=\"0\" x2=\"120\" y2=\"25\" style=\"stroke-width:2\" />\n",
       "\n",
       "  <!-- Colored Rectangle -->\n",
       "  <polygon points=\"0.0,0.0 120.0,0.0 120.0,25.412616514582485 0.0,25.412616514582485\" style=\"fill:#8B4903A0;stroke-width:0\"/>\n",
       "\n",
       "  <!-- Text -->\n",
       "  <text x=\"60.000000\" y=\"45.412617\" font-size=\"1.0rem\" font-weight=\"100\" text-anchor=\"middle\" >14886338</text>\n",
       "  <text x=\"140.000000\" y=\"12.706308\" font-size=\"1.0rem\" font-weight=\"100\" text-anchor=\"middle\" transform=\"rotate(-90,140.000000,12.706308)\">13148</text>\n",
       "</svg>\n",
       "        </td>\n",
       "    </tr>\n",
       "</table></div></div></li><li class='xr-section-item'><input id='section-b1a6085e-3358-4c23-8591-1fd2984da2d5' class='xr-section-summary-in' type='checkbox'  checked><label for='section-b1a6085e-3358-4c23-8591-1fd2984da2d5' class='xr-section-summary' >Coordinates: <span>(2)</span></label><div class='xr-section-inline-details'></div><div class='xr-section-details'><ul class='xr-var-list'><li class='xr-var-item'><div class='xr-var-name'><span class='xr-has-index'>ncells</span></div><div class='xr-var-dims'>(ncells)</div><div class='xr-var-dtype'>int64</div><div class='xr-var-preview xr-preview'>0 1 2 ... 14886336 14886337</div><input id='attrs-4afb86aa-a964-4712-b5b3-9f0d354f066b' class='xr-var-attrs-in' type='checkbox' disabled><label for='attrs-4afb86aa-a964-4712-b5b3-9f0d354f066b' title='Show/Hide attributes'><svg class='icon xr-icon-file-text2'><use xlink:href='#icon-file-text2'></use></svg></label><input id='data-e5a96bcc-5995-4446-9fc7-1a7885bd4956' class='xr-var-data-in' type='checkbox'><label for='data-e5a96bcc-5995-4446-9fc7-1a7885bd4956' title='Show/Hide data repr'><svg class='icon xr-icon-database'><use xlink:href='#icon-database'></use></svg></label><div class='xr-var-attrs'><dl class='xr-attrs'></dl></div><div class='xr-var-data'><pre>array([       0,        1,        2, ..., 14886335, 14886336, 14886337])</pre></div></li><li class='xr-var-item'><div class='xr-var-name'><span class='xr-has-index'>time</span></div><div class='xr-var-dims'>(time)</div><div class='xr-var-dtype'>datetime64[ns]</div><div class='xr-var-preview xr-preview'>2004-01-01T23:59:00 ... 2039-12-...</div><input id='attrs-a5bc24e7-6322-46f5-8341-037c5ce13d2e' class='xr-var-attrs-in' type='checkbox' ><label for='attrs-a5bc24e7-6322-46f5-8341-037c5ce13d2e' title='Show/Hide attributes'><svg class='icon xr-icon-file-text2'><use xlink:href='#icon-file-text2'></use></svg></label><input id='data-c9cfc122-8103-49ab-9dbd-ecb7fe07ed14' class='xr-var-data-in' type='checkbox'><label for='data-c9cfc122-8103-49ab-9dbd-ecb7fe07ed14' title='Show/Hide data repr'><svg class='icon xr-icon-database'><use xlink:href='#icon-database'></use></svg></label><div class='xr-var-attrs'><dl class='xr-attrs'><dt><span>axis :</span></dt><dd>T</dd><dt><span>standard_name :</span></dt><dd>time</dd></dl></div><div class='xr-var-data'><pre>array([&#x27;2004-01-01T23:59:00.000000000&#x27;, &#x27;2004-01-02T23:59:00.000000000&#x27;,\n",
       "       &#x27;2004-01-03T23:59:00.000000000&#x27;, ..., &#x27;2039-12-28T23:59:00.000000000&#x27;,\n",
       "       &#x27;2039-12-29T23:59:00.000000000&#x27;, &#x27;2039-12-30T23:59:00.000000000&#x27;],\n",
       "      dtype=&#x27;datetime64[ns]&#x27;)</pre></div></li></ul></div></li><li class='xr-section-item'><input id='section-9ecf2acb-ef90-48d6-b690-bc1f88f6a2d4' class='xr-section-summary-in' type='checkbox'  ><label for='section-9ecf2acb-ef90-48d6-b690-bc1f88f6a2d4' class='xr-section-summary' >Indexes: <span>(2)</span></label><div class='xr-section-inline-details'></div><div class='xr-section-details'><ul class='xr-var-list'><li class='xr-var-item'><div class='xr-index-name'><div>ncells</div></div><div class='xr-index-preview'>PandasIndex</div><div></div><input id='index-131a652d-9bb4-4cea-93bf-97e21c1b5485' class='xr-index-data-in' type='checkbox'/><label for='index-131a652d-9bb4-4cea-93bf-97e21c1b5485' title='Show/Hide index repr'><svg class='icon xr-icon-database'><use xlink:href='#icon-database'></use></svg></label><div class='xr-index-data'><pre>PandasIndex(Index([       0,        1,        2,        3,        4,        5,        6,\n",
       "              7,        8,        9,\n",
       "       ...\n",
       "       14886328, 14886329, 14886330, 14886331, 14886332, 14886333, 14886334,\n",
       "       14886335, 14886336, 14886337],\n",
       "      dtype=&#x27;int64&#x27;, name=&#x27;ncells&#x27;, length=14886338))</pre></div></li><li class='xr-var-item'><div class='xr-index-name'><div>time</div></div><div class='xr-index-preview'>PandasIndex</div><div></div><input id='index-7bea8f43-ecaf-4470-9778-ee88d65dbc25' class='xr-index-data-in' type='checkbox'/><label for='index-7bea8f43-ecaf-4470-9778-ee88d65dbc25' title='Show/Hide index repr'><svg class='icon xr-icon-database'><use xlink:href='#icon-database'></use></svg></label><div class='xr-index-data'><pre>PandasIndex(DatetimeIndex([&#x27;2004-01-01 23:59:00&#x27;, &#x27;2004-01-02 23:59:00&#x27;,\n",
       "               &#x27;2004-01-03 23:59:00&#x27;, &#x27;2004-01-04 23:59:00&#x27;,\n",
       "               &#x27;2004-01-05 23:59:00&#x27;, &#x27;2004-01-06 23:59:00&#x27;,\n",
       "               &#x27;2004-01-07 23:59:00&#x27;, &#x27;2004-01-08 23:59:00&#x27;,\n",
       "               &#x27;2004-01-09 23:59:00&#x27;, &#x27;2004-01-10 23:59:00&#x27;,\n",
       "               ...\n",
       "               &#x27;2039-12-21 23:59:00&#x27;, &#x27;2039-12-22 23:59:00&#x27;,\n",
       "               &#x27;2039-12-23 23:59:00&#x27;, &#x27;2039-12-24 23:59:00&#x27;,\n",
       "               &#x27;2039-12-25 23:59:00&#x27;, &#x27;2039-12-26 23:59:00&#x27;,\n",
       "               &#x27;2039-12-27 23:59:00&#x27;, &#x27;2039-12-28 23:59:00&#x27;,\n",
       "               &#x27;2039-12-29 23:59:00&#x27;, &#x27;2039-12-30 23:59:00&#x27;],\n",
       "              dtype=&#x27;datetime64[ns]&#x27;, name=&#x27;time&#x27;, length=13148, freq=None))</pre></div></li></ul></div></li><li class='xr-section-item'><input id='section-fdc4e4ec-8b5d-490f-939c-4108c15b74b7' class='xr-section-summary-in' type='checkbox' disabled ><label for='section-fdc4e4ec-8b5d-490f-939c-4108c15b74b7' class='xr-section-summary'  title='Expand/collapse section'>Attributes: <span>(0)</span></label><div class='xr-section-inline-details'></div><div class='xr-section-details'><dl class='xr-attrs'></dl></div></li></ul></div></div>"
      ],
      "text/plain": [
       "<xarray.DataArray 'features_notrend' (time: 13148, ncells: 14886338)> Size: 196GB\n",
       "dask.array<rechunk-merge, shape=(13148, 14886338), dtype=bool, chunksize=(4, 14886338), chunktype=numpy.ndarray>\n",
       "Coordinates:\n",
       "  * ncells   (ncells) int64 119MB 0 1 2 3 ... 14886335 14886336 14886337\n",
       "  * time     (time) datetime64[ns] 105kB 2004-01-01T23:59:00 ... 2039-12-30T2..."
      ]
     },
     "execution_count": 7,
     "metadata": {},
     "output_type": "execute_result"
    }
   ],
   "source": [
    "binary_out = ds.features_notrend.drop_vars({'lat','lon'})\n",
    "binary_out"
   ]
  },
  {
   "cell_type": "code",
   "execution_count": 8,
   "id": "15792632",
   "metadata": {},
   "outputs": [],
   "source": [
    "mask = ds.mask.drop_vars({'lat','lon'}).compute().data"
   ]
  },
  {
   "cell_type": "markdown",
   "id": "466489f9",
   "metadata": {},
   "source": [
    "## Run Tracker"
   ]
  },
  {
   "cell_type": "code",
   "execution_count": 9,
   "id": "3a43396c",
   "metadata": {},
   "outputs": [],
   "source": [
    "# Tracking Parameters\n",
    "threshold_percentile = 0.95\n",
    "min_size_quartile = 0.90      # percent   *NB: At 5km (vs ~25km for regridded data, we find many more very small objects!)\n",
    "radius = 250.0                # km\n",
    "resolution = 5.0              # km"
   ]
  },
  {
   "cell_type": "code",
   "execution_count": 10,
   "id": "e8c3399c",
   "metadata": {},
   "outputs": [],
   "source": [
    "tracker = ocetrac_unstruct.Tracker(binary_out, scratch_dir=str(scratch_dir / 'ocetrac_unstruct_scratch'), radius=radius, resolution=resolution, min_size_quartile=min_size_quartile, timedim='time', xdim='ncells', neighbours=ds.neighbours, land_mask=mask)"
   ]
  },
  {
   "cell_type": "markdown",
   "id": "d48ac1ba",
   "metadata": {},
   "source": [
    "#### Investigating Opening/Closing"
   ]
  },
  {
   "cell_type": "code",
   "execution_count": 11,
   "id": "468ecc16",
   "metadata": {},
   "outputs": [],
   "source": [
    "binary_original = tracker.da.isel(time=slice(100,102)).persist()"
   ]
  },
  {
   "cell_type": "code",
   "execution_count": 12,
   "id": "2856c5c2",
   "metadata": {},
   "outputs": [],
   "source": [
    "from numba import njit, int64, int32, void, prange"
   ]
  },
  {
   "cell_type": "code",
   "execution_count": 13,
   "id": "af5c3451",
   "metadata": {},
   "outputs": [
    {
     "name": "stdout",
     "output_type": "stream",
     "text": [
      "----Start loading pyicon.\n",
      "----Start loading pyicon.\n",
      "----Pyicon was loaded successfully.\n",
      "----Pyicon was loaded successfully.\n"
     ]
    }
   ],
   "source": [
    "import pyicon as pyic"
   ]
  },
  {
   "cell_type": "code",
   "execution_count": 14,
   "id": "3c797908",
   "metadata": {},
   "outputs": [],
   "source": [
    "zarr_fpath_tgrid = scratch_dir  / f'fpath_tgrid.zarr'"
   ]
  },
  {
   "cell_type": "code",
   "execution_count": 84,
   "id": "ecd0bd51",
   "metadata": {},
   "outputs": [],
   "source": [
    "@njit(parallel=True) #fastmath=True, \n",
    "def sparse_bool_power(vec, sp_data, indices, indptr, exponent):\n",
    "    vec = vec.T\n",
    "    num_rows = indptr.size - 1\n",
    "    num_cols = vec.shape[1]\n",
    "    result = vec.copy()\n",
    "\n",
    "    for _ in range(exponent):\n",
    "        temp_result = np.zeros((num_rows, num_cols), dtype=np.int32) #bool_)\n",
    "\n",
    "        for i in range(num_rows):\n",
    "            for k in range(num_cols):\n",
    "                for j in range(indptr[i], indptr[i + 1]):\n",
    "                    if sp_data[j] and result[indices[j], k]:\n",
    "                        temp_result[i, k] = 1 #True\n",
    "                        break\n",
    "\n",
    "        result = temp_result\n",
    "\n",
    "    return result.T"
   ]
  },
  {
   "cell_type": "code",
   "execution_count": 85,
   "id": "1798c04e",
   "metadata": {},
   "outputs": [],
   "source": [
    "exponent = 20 #int(tracker.n_connections)\n",
    "land_mask = tracker.land_mask\n",
    "data = tracker.dilate_sparse.data\n",
    "indices = tracker.dilate_sparse.indices\n",
    "indptr = tracker.dilate_sparse.indptr\n",
    "\n",
    "def binary_open_close(bitmap_binary):\n",
    "    \n",
    "    bitmap_binary_opened = sparse_bool_power(bitmap_binary, data, indices, indptr, exponent)  # This sparse_bool_power assumes the xdim (multiplying the sparse matrix) is in dim=1\n",
    "    \n",
    "    # Set the land values to True (to avoid artificially eroding the shore)\n",
    "    bitmap_binary_opened[:, land_mask] = 1\n",
    "    \n",
    "    ## Opening is just the negated closing of the negated image\n",
    "    #bitmap_binary_closed = ~sparse_bool_power(~bitmap_binary_opened, data, indices, indptr, exponent)\n",
    "    \n",
    "    return bitmap_binary_opened"
   ]
  },
  {
   "cell_type": "code",
   "execution_count": 34,
   "id": "0447a53d",
   "metadata": {},
   "outputs": [],
   "source": [
    "binary_original0 = binary_original.isel(time=slice(0,2)).compute().data"
   ]
  },
  {
   "cell_type": "code",
   "execution_count": 86,
   "id": "e8cdd9da",
   "metadata": {},
   "outputs": [],
   "source": [
    "opcl_new = binary_open_close(binary_original0.astype(np.int32))"
   ]
  },
  {
   "cell_type": "code",
   "execution_count": 87,
   "metadata": {},
   "outputs": [],
   "source": [
    "opcl_new_da = xr.DataArray(opcl_new, coords=binary_original.coords, dims=binary_original.dims).isel(time=0)"
   ]
  },
  {
   "cell_type": "code",
   "execution_count": 27,
   "id": "c2999c95",
   "metadata": {},
   "outputs": [
    {
     "name": "stdout",
     "output_type": "stream",
     "text": [
      "Deriving triangulation object, this can take a while...\n",
      "Done deriving triangulation object.\n"
     ]
    },
    {
     "data": {
      "text/plain": [
       "(<GeoAxes: title={'right': '2004-04-10T23:59:00'}>,\n",
       " [<matplotlib.collections.PolyCollection at 0x154678c5fc10>,\n",
       "  <matplotlib.colorbar.Colorbar at 0x154ab9e6c220>])"
      ]
     },
     "execution_count": 27,
     "metadata": {},
     "output_type": "execute_result"
    },
    {
     "data": {
      "image/png": "[encoded data removed]",
      "text/plain": [
       "<Figure size 379.742x480.314 with 2 Axes>"
      ]
     },
     "metadata": {},
     "output_type": "display_data"
    }
   ],
   "source": [
    "bin_0_da = binary_original.isel(time=0).compute()\n",
    "xr.where(bin_0_da==True, 10.0, 1.0).pyic.plot(lat_reg=[-9, 2], lon_reg=[76, 85], fpath_tgrid=zarr_fpath_tgrid, plot_method='tgrid')"
   ]
  },
  {
   "cell_type": "code",
   "execution_count": 88,
   "id": "fd2af2af",
   "metadata": {},
   "outputs": [
    {
     "name": "stdout",
     "output_type": "stream",
     "text": [
      "Deriving triangulation object, this can take a while...\n",
      "Done deriving triangulation object.\n"
     ]
    },
    {
     "data": {
      "text/plain": [
       "(<GeoAxes: title={'right': '2004-04-10T23:59:00'}>,\n",
       " [<matplotlib.collections.PolyCollection at 0x1545fabf75b0>,\n",
       "  <matplotlib.colorbar.Colorbar at 0x1545fb20a560>])"
      ]
     },
     "execution_count": 88,
     "metadata": {},
     "output_type": "execute_result"
    },
    {
     "data": {
      "image/png": "[encoded data removed]",
      "text/plain": [
       "<Figure size 379.742x480.314 with 2 Axes>"
      ]
     },
     "metadata": {},
     "output_type": "display_data"
    }
   ],
   "source": [
    "opcl_new_da.pyic.plot(lat_reg=[-9, 2], lon_reg=[76, 85], fpath_tgrid=zarr_fpath_tgrid, plot_method='tgrid')"
   ]
  },
  {
   "cell_type": "code",
   "execution_count": 91,
   "id": "5d9d3ec7",
   "metadata": {},
   "outputs": [
    {
     "name": "stdout",
     "output_type": "stream",
     "text": [
      "Deriving triangulation object, this can take a while...\n",
      "Done deriving triangulation object.\n"
     ]
    },
    {
     "data": {
      "text/plain": [
       "(<GeoAxes: title={'right': '2004-04-10T23:59:00'}>,\n",
       " [<matplotlib.collections.PolyCollection at 0x1545f6943130>,\n",
       "  <matplotlib.colorbar.Colorbar at 0x1545f9213eb0>])"
      ]
     },
     "execution_count": 91,
     "metadata": {},
     "output_type": "execute_result"
    },
    {
     "data": {
      "image/png": "[encoded data removed]",
      "text/plain": [
       "<Figure size 379.742x480.314 with 2 Axes>"
      ]
     },
     "metadata": {},
     "output_type": "display_data"
    }
   ],
   "source": [
    "test = opcl_new_da.copy()\n",
    "test.where(test==1, -1).pyic.plot(lat_reg=[-9, 2], lon_reg=[76, 85], fpath_tgrid=zarr_fpath_tgrid, plot_method='tgrid')"
   ]
  },
  {
   "cell_type": "code",
   "execution_count": 89,
   "id": "5e72264d",
   "metadata": {},
   "outputs": [
    {
     "data": {
      "text/plain": [
       "(<GeoAxes: title={'right': '2004-04-10T23:59:00'}>,\n",
       " [<cartopy.mpl.geocollection.GeoQuadMesh at 0x1545f53282e0>,\n",
       "  <matplotlib.colorbar.Colorbar at 0x1545f6926fb0>])"
      ]
     },
     "execution_count": 89,
     "metadata": {},
     "output_type": "execute_result"
    },
    {
     "data": {
      "image/png": "[encoded data removed]",
      "text/plain": [
       "<Figure size 379.742x480.314 with 2 Axes>"
      ]
     },
     "metadata": {},
     "output_type": "display_data"
    }
   ],
   "source": [
    "xr.where(opcl_new_da>0.5, 10.0, 1.0).pyic.plot(lat_reg=[-9, 2], lon_reg=[76, 85], res=0.02) #, fpath_tgrid=zarr_fpath_tgrid, plot_method='tgrid')"
   ]
  },
  {
   "cell_type": "code",
   "execution_count": null,
   "id": "193dbb51",
   "metadata": {},
   "outputs": [],
   "source": []
  },
  {
   "cell_type": "code",
   "execution_count": null,
   "id": "0b15bbbd",
   "metadata": {},
   "outputs": [],
   "source": []
  },
  {
   "cell_type": "code",
   "execution_count": null,
   "id": "0deb3c18",
   "metadata": {},
   "outputs": [],
   "source": []
  },
  {
   "cell_type": "code",
   "execution_count": null,
   "id": "81fa4681",
   "metadata": {},
   "outputs": [],
   "source": []
  },
  {
   "cell_type": "code",
   "execution_count": null,
   "id": "7c6f40c5",
   "metadata": {},
   "outputs": [],
   "source": []
  },
  {
   "cell_type": "code",
   "execution_count": null,
   "id": "f36cf270",
   "metadata": {},
   "outputs": [],
   "source": []
  },
  {
   "cell_type": "code",
   "execution_count": null,
   "id": "62c5e988",
   "metadata": {},
   "outputs": [],
   "source": []
  },
  {
   "cell_type": "markdown",
   "id": "bcc5975d",
   "metadata": {},
   "source": [
    "### Investigating Clustering"
   ]
  },
  {
   "cell_type": "code",
   "execution_count": 11,
   "id": "a57f8efa",
   "metadata": {},
   "outputs": [],
   "source": [
    "binary_filtered = xr.open_zarr(str(scratch_dir / 'ocetrac_unstruct_scratch' / '02_binary_images_filtered_temp.zarr'), chunks={}).binary_images_filtered"
   ]
  },
  {
   "cell_type": "code",
   "execution_count": 12,
   "id": "127b00b8",
   "metadata": {},
   "outputs": [],
   "source": [
    "binary = xr.open_zarr(str(scratch_dir / 'ocetrac_unstruct_scratch' / '02_binary_images_temp.zarr'), chunks={}).binary_images"
   ]
  },
  {
   "cell_type": "code",
   "execution_count": 94,
   "id": "68f2150a",
   "metadata": {},
   "outputs": [],
   "source": [
    "binary_original = tracker.da.isel(time=slice(100,102)).persist()"
   ]
  },
  {
   "cell_type": "code",
   "execution_count": 13,
   "id": "fdbf0059",
   "metadata": {},
   "outputs": [],
   "source": [
    "binary_images = binary.isel(time=slice(100,102)).persist()"
   ]
  },
  {
   "cell_type": "code",
   "execution_count": null,
   "id": "ca9f93a9",
   "metadata": {},
   "outputs": [],
   "source": [
    "import pyicon as pyic"
   ]
  },
  {
   "cell_type": "code",
   "execution_count": null,
   "id": "44f7b171",
   "metadata": {},
   "outputs": [],
   "source": [
    "binary_images.isel(time=0).pyic.plot()"
   ]
  },
  {
   "cell_type": "code",
   "execution_count": 16,
   "metadata": {},
   "outputs": [],
   "source": [
    "binary_images_mask = binary_images.where(~tracker.land_mask, other=True).compute()"
   ]
  },
  {
   "cell_type": "code",
   "execution_count": null,
   "metadata": {},
   "outputs": [],
   "source": [
    "binary_images_mask.isel(time=0).pyic.plot()"
   ]
  },
  {
   "cell_type": "code",
   "execution_count": null,
   "id": "cc2457dd",
   "metadata": {},
   "outputs": [],
   "source": [
    "binary_images_mask.isel(time=0).pyic.plot(lat_reg=[-14, 5], lon_reg=[70, 92], fpath_tgrid=zarr_fpath_tgrid, plot_method='tgrid')"
   ]
  },
  {
   "cell_type": "code",
   "execution_count": null,
   "id": "1a51c843",
   "metadata": {},
   "outputs": [],
   "source": [
    "binary_original.isel(time=0).pyic.plot(lat_reg=[-14, 5], lon_reg=[70, 92], fpath_tgrid=zarr_fpath_tgrid, plot_method='tgrid')"
   ]
  },
  {
   "cell_type": "code",
   "execution_count": null,
   "id": "42dba5cb",
   "metadata": {},
   "outputs": [],
   "source": []
  },
  {
   "cell_type": "code",
   "execution_count": null,
   "metadata": {},
   "outputs": [],
   "source": []
  },
  {
   "cell_type": "code",
   "execution_count": null,
   "id": "312227d3",
   "metadata": {},
   "outputs": [],
   "source": []
  },
  {
   "cell_type": "code",
   "execution_count": 20,
   "id": "dce86583",
   "metadata": {},
   "outputs": [],
   "source": [
    "from numba import njit, int64, int32, void, prange"
   ]
  },
  {
   "cell_type": "code",
   "execution_count": 63,
   "id": "7ee21af6",
   "metadata": {},
   "outputs": [],
   "source": [
    "from scipy.sparse import csr_matrix\n",
    "from scipy.sparse.csgraph import connected_components"
   ]
  },
  {
   "cell_type": "code",
   "execution_count": 58,
   "id": "71256cba",
   "metadata": {},
   "outputs": [],
   "source": []
  },
  {
   "cell_type": "code",
   "execution_count": 213,
   "id": "c82db72d",
   "metadata": {},
   "outputs": [],
   "source": [
    "def scipy_connected_components_clusters(arr, neighbours_int):\n",
    "    n = len(arr)\n",
    "    true_indices = np.where(arr)[0]\n",
    "    mapping = {old_idx: new_idx for new_idx, old_idx in enumerate(true_indices)}\n",
    "    \n",
    "    row_ind, col_ind = [], []\n",
    "    for j in true_indices:\n",
    "        for i in range(3):\n",
    "            if neighbours_int[i, j] != -1 and arr[neighbours_int[i, j]]:\n",
    "                row_ind.append(mapping[j])\n",
    "                col_ind.append(mapping[neighbours_int[i, j]])\n",
    "    \n",
    "    graph = csr_matrix((np.ones(len(row_ind)), (row_ind, col_ind)), shape=(len(true_indices), len(true_indices)))\n",
    "    _, labels_true = connected_components(csgraph=graph, directed=False, return_labels=True)\n",
    "    \n",
    "    labels = np.full(n, -1, dtype=np.int32)\n",
    "    labels[true_indices] = labels_true\n",
    "    \n",
    "    return labels"
   ]
  },
  {
   "cell_type": "code",
   "execution_count": 206,
   "id": "39229d1f",
   "metadata": {},
   "outputs": [],
   "source": [
    "# def scipy_connected_components_clusters(arr, neighbours_int):\n",
    "#     n = len(arr)\n",
    "#     true_indices = np.where(arr)[0]\n",
    "    \n",
    "#     row_ind, col_ind = [], []\n",
    "#     for j in range(n):\n",
    "#         if arr[j]:\n",
    "#             for i in range(3):\n",
    "#                 if neighbours_int[i, j] != -1 and arr[neighbours_int[i, j]] == True:\n",
    "#                     row_ind.append(j)\n",
    "#                     col_ind.append(neighbours_int[i, j])\n",
    "    \n",
    "#     graph = csr_matrix((np.ones(len(row_ind)), (row_ind, col_ind)), shape=(n, n))\n",
    "#     _, labels_true = connected_components(csgraph=graph, directed=False, return_labels=True)\n",
    "    \n",
    "#     labels = np.full(n, -1, dtype=np.int64)\n",
    "#     labels[true_indices] = labels_true[true_indices]\n",
    "    \n",
    "#     return labels"
   ]
  },
  {
   "cell_type": "code",
   "execution_count": 54,
   "id": "32526bf1",
   "metadata": {},
   "outputs": [],
   "source": [
    "zarr_fpath_tgrid = scratch_dir  / f'fpath_tgrid.zarr'"
   ]
  },
  {
   "cell_type": "code",
   "execution_count": 161,
   "id": "8b6199dc",
   "metadata": {},
   "outputs": [],
   "source": [
    "import intake\n",
    "cat = intake.open_catalog(\"https://raw.githubusercontent.com/eerie-project/intake_catalogues/main/eerie.yaml\")\n",
    "expid = 'eerie-control-1950'\n",
    "version = 'v20231106'\n",
    "model = 'icon-esm-er'\n",
    "gridspec = 'native'\n",
    "\n",
    "dat = cat['dkrz.disk.model-output'][model][expid][version]['ocean'][gridspec]\n",
    "\n",
    "grid2d = dat['2d_grid'](chunks={}).to_dask().rename({'cell':'ncells'})\n",
    "\n",
    "neighbours = grid2d.neighbor_cell_index.rename({'clat':'lat', 'clon':'lon'}).astype(int).chunk({'ncells':-1})"
   ]
  },
  {
   "cell_type": "code",
   "execution_count": 167,
   "id": "ef483635",
   "metadata": {},
   "outputs": [],
   "source": [
    "neighbour_temp = neighbours.compute().data - 1"
   ]
  },
  {
   "cell_type": "code",
   "execution_count": 171,
   "id": "15a3ffce",
   "metadata": {},
   "outputs": [],
   "source": [
    "bin_image = binary_images.isel(time=0)"
   ]
  },
  {
   "cell_type": "code",
   "execution_count": 214,
   "id": "0b8e63bf",
   "metadata": {},
   "outputs": [],
   "source": [
    "cluster_labels = scipy_connected_components_clusters(bin_image.compute().data, neighbour_temp)"
   ]
  },
  {
   "cell_type": "code",
   "execution_count": 215,
   "id": "b29c9f6c",
   "metadata": {},
   "outputs": [],
   "source": [
    "cl_da = xr.DataArray(cluster_labels, coords=bin_image.coords, dims=bin_image.dims)#.isel(time=0)"
   ]
  },
  {
   "cell_type": "code",
   "execution_count": null,
   "metadata": {},
   "outputs": [],
   "source": [
    "xr.where(bin_image==True, 10.0, 1.0).pyic.plot(lat_reg=[-9, 2], lon_reg=[76, 85], fpath_tgrid=zarr_fpath_tgrid, plot_method='tgrid')"
   ]
  },
  {
   "cell_type": "code",
   "execution_count": null,
   "id": "b3324835",
   "metadata": {},
   "outputs": [],
   "source": [
    "(bin_image==True).pyic.plot(lat_reg=[-9, 2], lon_reg=[76, 85], fpath_tgrid=zarr_fpath_tgrid, plot_method='tgrid')"
   ]
  },
  {
   "cell_type": "code",
   "execution_count": 223,
   "id": "d75400cf",
   "metadata": {},
   "outputs": [],
   "source": [
    "import matplotlib.pyplot as plt\n",
    "from matplotlib.colors import ListedColormap\n",
    "cm = ListedColormap(np.random.random(size=(10**4, 3)).tolist())"
   ]
  },
  {
   "cell_type": "code",
   "execution_count": null,
   "id": "7b10ece5",
   "metadata": {},
   "outputs": [],
   "source": [
    "xr.where(cl_da>=0.0, cl_da, np.nan).pyic.plot(cmap=cm, lat_reg=[-9, 2], lon_reg=[76, 85], fpath_tgrid=zarr_fpath_tgrid, plot_method='tgrid')"
   ]
  },
  {
   "cell_type": "code",
   "execution_count": null,
   "id": "4ac9c5e3",
   "metadata": {},
   "outputs": [],
   "source": [
    "xr.where(cl_da>=0, cl_da, np.nan).pyic.plot(cmap='tab20',fpath_tgrid=zarr_fpath_tgrid)"
   ]
  },
  {
   "cell_type": "code",
   "execution_count": null,
   "metadata": {},
   "outputs": [],
   "source": []
  },
  {
   "cell_type": "code",
   "execution_count": null,
   "metadata": {},
   "outputs": [],
   "source": [
    "labels = xr.open_zarr(str(scratch_dir / 'ocetrac_unstruct_scratch' / '02_cluster_labels_1_temp.zarr'), chunks={}).cluster_labels"
   ]
  },
  {
   "cell_type": "code",
   "execution_count": null,
   "id": "423aaafc",
   "metadata": {},
   "outputs": [],
   "source": [
    "labels.isel(time=100).pyic.plot()  # ^^ Should be the same..."
   ]
  },
  {
   "cell_type": "code",
   "execution_count": null,
   "metadata": {},
   "outputs": [],
   "source": []
  },
  {
   "cell_type": "code",
   "execution_count": null,
   "metadata": {},
   "outputs": [],
   "source": []
  },
  {
   "cell_type": "code",
   "execution_count": null,
   "metadata": {},
   "outputs": [],
   "source": []
  },
  {
   "cell_type": "code",
   "execution_count": null,
   "metadata": {},
   "outputs": [],
   "source": []
  },
  {
   "cell_type": "code",
   "execution_count": null,
   "metadata": {},
   "outputs": [],
   "source": []
  },
  {
   "cell_type": "code",
   "execution_count": null,
   "metadata": {},
   "outputs": [],
   "source": []
  },
  {
   "cell_type": "code",
   "execution_count": null,
   "metadata": {},
   "outputs": [],
   "source": []
  },
  {
   "cell_type": "code",
   "execution_count": null,
   "metadata": {},
   "outputs": [],
   "source": []
  },
  {
   "cell_type": "code",
   "execution_count": 13,
   "id": "1a07bac6",
   "metadata": {},
   "outputs": [],
   "source": [
    "blobs.attrs"
   ]
  },
  {
   "cell_type": "code",
   "execution_count": 14,
   "id": "d8c5323b",
   "metadata": {},
   "outputs": [],
   "source": [
    "# clientDistributed.close()"
   ]
  },
  {
   "cell_type": "markdown",
   "id": "62e4325b",
   "metadata": {},
   "source": [
    "## Save Blobs\n",
    "NB: Blobs file is already saved, but just move it into the `scratch_dir`"
   ]
  },
  {
   "cell_type": "code",
   "execution_count": 15,
   "id": "983e44b8",
   "metadata": {},
   "outputs": [],
   "source": [
    "import shutil\n",
    "shutil.move(str(scratch_dir / 'ocetrac_unstruct_scratch' / '02_final_labels.zarr'), str(scratch_dir / '02_tracked_unstruct.zarr'))"
   ]
  }
 ],
 "metadata": {
  "kernelspec": {
   "display_name": "Python 3 (ipykernel)",
   "language": "python",
   "name": "python3"
  },
  "language_info": {
   "codemirror_mode": {
    "name": "ipython",
    "version": 3
   },
   "file_extension": ".py",
   "mimetype": "text/x-python",
   "name": "python",
   "nbconvert_exporter": "python",
   "pygments_lexer": "ipython3",
   "version": "3.10.12"
  }
 },
 "nbformat": 4,
 "nbformat_minor": 5
}
