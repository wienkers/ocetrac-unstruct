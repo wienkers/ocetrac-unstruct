{
 "cells": [
  {
   "cell_type": "markdown",
   "id": "5b7d3a1a",
   "metadata": {},
   "source": [
    "# Use `ocetrac-unstruct` to identify and track marine heatwaves\n",
    "This example using 40 years of Daily outputs at 5km native grid resolution takes ~ minutes on 128 cores."
   ]
  },
  {
   "cell_type": "code",
   "execution_count": null,
   "id": "6b337539",
   "metadata": {},
   "outputs": [],
   "source": [
    "import xarray as xr\n",
    "import numpy as np\n",
    "import dask\n",
    "import ocetrac_unstruct\n",
    "import pyicon as pyic  # Necessary for unstructured plotting of ICON data\n",
    "\n",
    "from tempfile import TemporaryDirectory\n",
    "from getpass import getuser\n",
    "from pathlib import Path\n",
    "from dask.distributed import Client, LocalCluster\n",
    "import subprocess\n",
    "import re\n",
    "\n",
    "import warnings\n",
    "warnings.filterwarnings('ignore')"
   ]
  },
  {
   "cell_type": "code",
   "execution_count": 2,
   "id": "bf0212e6",
   "metadata": {},
   "outputs": [],
   "source": [
    "scratch_dir = Path('/scratch') / getuser()[0] / getuser() / 'mhws' \n",
    "zarr_fpath_tgrid = scratch_dir  / f'fpath_tgrid.zarr'"
   ]
  },
  {
   "cell_type": "markdown",
   "id": "b5f13429",
   "metadata": {},
   "source": [
    "## Start Dask Cluster"
   ]
  },
  {
   "cell_type": "code",
   "execution_count": null,
   "id": "310fd2ef",
   "metadata": {},
   "outputs": [
    {
     "name": "stderr",
     "output_type": "stream",
     "text": [
      "2024-09-29 00:29:08,661 - distributed.nanny - WARNING - Restarting worker\n",
      "2024-09-29 00:29:08,669 - distributed.nanny - WARNING - Restarting worker\n",
      "2024-09-29 00:29:08,684 - distributed.nanny - WARNING - Restarting worker\n",
      "2024-09-29 00:29:08,686 - distributed.nanny - WARNING - Restarting worker\n",
      "2024-09-29 00:29:08,689 - distributed.nanny - WARNING - Restarting worker\n",
      "2024-09-29 00:29:08,850 - distributed.scheduler - WARNING - Removing worker 'tcp://127.0.0.1:33067' caused the cluster to lose already computed task(s), which will be recomputed elsewhere: {('getitem-df310c0aebeab914d9c8c5f84782cd40', 47), ('getitem-df310c0aebeab914d9c8c5f84782cd40', 44), ('getitem-62839115bb8c676c9c7a96325c920b0d', 33, 0), ('getitem-df310c0aebeab914d9c8c5f84782cd40', 4), ('getitem-df310c0aebeab914d9c8c5f84782cd40', 1), ('getitem-df310c0aebeab914d9c8c5f84782cd40', 7), ('getitem-df310c0aebeab914d9c8c5f84782cd40', 10), ('getitem-df310c0aebeab914d9c8c5f84782cd40', 16), ('getitem-df310c0aebeab914d9c8c5f84782cd40', 13), ('getitem-df310c0aebeab914d9c8c5f84782cd40', 19), ('transpose-8c9d3e4a39f52fb81c6ab79b1a323881', 12, 0), ('transpose-c1c6ff79005c4538492ac923d08386a4', 33, 0), ('getitem-df310c0aebeab914d9c8c5f84782cd40', 0), ('transpose-8c9d3e4a39f52fb81c6ab79b1a323881', 38, 0), ('getitem-df310c0aebeab914d9c8c5f84782cd40', 9), ('getitem-df310c0aebeab914d9c8c5f84782cd40', 18), ('getitem-62839115bb8c676c9c7a96325c920b0d', 45, 0), ('getitem-62839115bb8c676c9c7a96325c920b0d', 12, 0), ('transpose-8c9d3e4a39f52fb81c6ab79b1a323881', 33, 0), ('transpose-c1c6ff79005c4538492ac923d08386a4', 12, 0), ('transpose-c1c6ff79005c4538492ac923d08386a4', 45, 0), ('transpose-c1c6ff79005c4538492ac923d08386a4', 38, 0), ('getitem-62839115bb8c676c9c7a96325c920b0d', 38, 0), ('getitem-df310c0aebeab914d9c8c5f84782cd40', 29), ('getitem-df310c0aebeab914d9c8c5f84782cd40', 35), ('getitem-df310c0aebeab914d9c8c5f84782cd40', 32), ('getitem-df310c0aebeab914d9c8c5f84782cd40', 38), ('getitem-df310c0aebeab914d9c8c5f84782cd40', 41)} (stimulus_id='handle-worker-cleanup-1727562548.8505979')\n",
      "2024-09-29 00:29:08,874 - distributed.scheduler - ERROR - Task original-open_dataset-features_notrend-1ff15ec669c464fc40d17de3c247a27a marked as failed because 4 workers died while trying to run it\n",
      "2024-09-29 00:29:08,875 - distributed.scheduler - ERROR - Task original-open_dataset-lon-0acff6920cc13c0f149202e2a2e9d0c9 marked as failed because 4 workers died while trying to run it\n",
      "2024-09-29 00:29:08,875 - distributed.scheduler - WARNING - Removing worker 'tcp://127.0.0.1:37425' caused the cluster to lose already computed task(s), which will be recomputed elsewhere: {('transpose-8c9d3e4a39f52fb81c6ab79b1a323881', 31, 0), ('transpose-c1c6ff79005c4538492ac923d08386a4', 29, 0), ('getitem-62839115bb8c676c9c7a96325c920b0d', 20, 0), ('getitem-62839115bb8c676c9c7a96325c920b0d', 31, 0), ('transpose-c1c6ff79005c4538492ac923d08386a4', 22, 0), ('getitem-62839115bb8c676c9c7a96325c920b0d', 29, 0), ('transpose-c1c6ff79005c4538492ac923d08386a4', 31, 0), ('getitem-62839115bb8c676c9c7a96325c920b0d', 22, 0), ('getitem-df310c0aebeab914d9c8c5f84782cd40', 49), ('transpose-8c9d3e4a39f52fb81c6ab79b1a323881', 29, 0), ('transpose-8c9d3e4a39f52fb81c6ab79b1a323881', 22, 0)} (stimulus_id='handle-worker-cleanup-1727562548.8737462')\n",
      "2024-09-29 00:29:08,904 - distributed.nanny - WARNING - Restarting worker\n"
     ]
    }
   ],
   "source": [
    "cluster_scratch = Path('/scratch') / getuser()[0] / getuser() / 'clients'\n",
    "dask_tmp_dir = TemporaryDirectory(dir=cluster_scratch)\n",
    "dask.config.set(temporary_directory=dask_tmp_dir.name)\n",
    "\n",
    "## Local Cluster\n",
    "cluster = LocalCluster(n_workers=16, threads_per_worker=4)\n",
    "client = Client(cluster)\n",
    "\n",
    "remote_node = subprocess.run(['hostname'], capture_output=True, text=True).stdout.strip().split('.')[0]\n",
    "port = re.search(r':(\\d+)/', client.dashboard_link).group(1)\n",
    "print(f\"Forward with Port = {remote_node}:{port}\")\n",
    "\n",
    "client.dashboard_link"
   ]
  },
  {
   "cell_type": "markdown",
   "id": "b0b29f1d-a7f3-4db5-bab3-a7785d4da7e1",
   "metadata": {},
   "source": [
    "## Load Pre-processed Data\n",
    "(cf. `01_preprocess_unstruct.ipynb`)"
   ]
  },
  {
   "cell_type": "code",
   "execution_count": 4,
   "id": "66a21e23-427a-4f6f-9a91-fa2ae628f148",
   "metadata": {
    "tags": []
   },
   "outputs": [],
   "source": [
    "chunk_size = {'time': 4, 'ncells': -1}\n",
    "time_subset = slice(0,200)\n",
    "ds = xr.open_zarr(str(scratch_dir / '01_preprocess_unstruct.zarr'), chunks=chunk_size).isel(time=time_subset)"
   ]
  },
  {
   "cell_type": "code",
   "execution_count": null,
   "id": "14473bb1",
   "metadata": {
    "tags": []
   },
   "outputs": [],
   "source": [
    "binary_out = ds.features_notrend.persist()\n",
    "binary_out"
   ]
  },
  {
   "cell_type": "code",
   "execution_count": 6,
   "id": "15792632",
   "metadata": {},
   "outputs": [],
   "source": [
    "mask = ds.mask.compute()"
   ]
  },
  {
   "cell_type": "code",
   "execution_count": 7,
   "id": "959578d0",
   "metadata": {},
   "outputs": [],
   "source": [
    "# binary_out.isel(time=0).pyic.plot(fpath_tgrid=zarr_fpath_tgrid)"
   ]
  },
  {
   "cell_type": "markdown",
   "id": "466489f9",
   "metadata": {},
   "source": [
    "## Run Tracker"
   ]
  },
  {
   "cell_type": "code",
   "execution_count": 8,
   "id": "3a43396c",
   "metadata": {},
   "outputs": [],
   "source": [
    "# Tracking Parameters\n",
    "threshold_percentile = 0.95\n",
    "min_size_quartile = 0.5       # percent\n",
    "radius = 100.0                # km\n",
    "resolution = 5.0              # km"
   ]
  },
  {
   "cell_type": "code",
   "execution_count": 9,
   "id": "e8c3399c",
   "metadata": {},
   "outputs": [],
   "source": [
    "tracker = ocetrac_unstruct.Tracker(binary_out, radius=radius, resolution=resolution, min_size_quartile=min_size_quartile, timedim='time', xdim='ncells', neighbours=ds.neighbours, land_mask=mask)"
   ]
  },
  {
   "cell_type": "code",
   "execution_count": 10,
   "id": "eb05cf2e",
   "metadata": {},
   "outputs": [],
   "source": [
    "binary_images = tracker._morphological_operations()"
   ]
  },
  {
   "cell_type": "code",
   "execution_count": 11,
   "id": "0e3be3df",
   "metadata": {},
   "outputs": [],
   "source": [
    "#binary_images = binary_images.persist()"
   ]
  },
  {
   "cell_type": "code",
   "execution_count": null,
   "id": "0c46b07e",
   "metadata": {},
   "outputs": [],
   "source": [
    "area, min_area, binary_images_filtered, N_initial = tracker._filter_area(binary_images)"
   ]
  },
  {
   "cell_type": "code",
   "execution_count": null,
   "id": "423380c7",
   "metadata": {},
   "outputs": [],
   "source": [
    "## ^^^ WORKS "
   ]
  },
  {
   "cell_type": "code",
   "execution_count": null,
   "id": "8436096c",
   "metadata": {},
   "outputs": [],
   "source": [
    "labelled_global_time, N_final = tracker._label_unstruct_time(binary_images_filtered)"
   ]
  },
  {
   "cell_type": "code",
   "execution_count": null,
   "id": "e568434d",
   "metadata": {},
   "outputs": [],
   "source": []
  },
  {
   "cell_type": "code",
   "execution_count": null,
   "id": "a0a6d323",
   "metadata": {},
   "outputs": [],
   "source": []
  },
  {
   "cell_type": "code",
   "execution_count": null,
   "id": "e138b0ef",
   "metadata": {},
   "outputs": [],
   "source": [
    "blobs = tracker.track()"
   ]
  },
  {
   "cell_type": "code",
   "execution_count": 10,
   "id": "bfb42113",
   "metadata": {},
   "outputs": [],
   "source": [
    "blobs.attrs"
   ]
  },
  {
   "cell_type": "markdown",
   "metadata": {},
   "source": [
    "## Save Blobs"
   ]
  },
  {
   "cell_type": "code",
   "execution_count": 11,
   "id": "7dae530c",
   "metadata": {},
   "outputs": [],
   "source": [
    "blobs.to_netcdf(scratch_dir / '02_tracked_unstruct.nc', mode='w')"
   ]
  }
 ],
 "metadata": {
  "kernelspec": {
   "display_name": "Python 3 (ipykernel)",
   "language": "python",
   "name": "python3"
  },
  "language_info": {
   "codemirror_mode": {
    "name": "ipython",
    "version": 3
   },
   "file_extension": ".py",
   "mimetype": "text/x-python",
   "name": "python",
   "nbconvert_exporter": "python",
   "pygments_lexer": "ipython3",
   "version": "3.10.12"
  }
 },
 "nbformat": 4,
 "nbformat_minor": 5
}
