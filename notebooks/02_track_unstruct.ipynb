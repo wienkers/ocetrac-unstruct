{
 "cells": [
  {
   "cell_type": "markdown",
   "id": "5b7d3a1a",
   "metadata": {},
   "source": [
    "# Use `ocetrac-unstruct` to identify and track marine heatwaves\n",
    "This example using 40 years of Daily outputs at 5km native grid resolution takes ~ minutes on 128 cores."
   ]
  },
  {
   "cell_type": "code",
   "execution_count": 1,
   "id": "6b337539",
   "metadata": {},
   "outputs": [],
   "source": [
    "import xarray as xr\n",
    "import numpy as np\n",
    "import dask\n",
    "import ocetrac_unstruct\n",
    "\n",
    "from tempfile import TemporaryDirectory\n",
    "from getpass import getuser\n",
    "from pathlib import Path\n",
    "from dask_jobqueue import SLURMCluster\n",
    "from dask.distributed import Client, LocalCluster\n",
    "import subprocess\n",
    "import re\n",
    "\n",
    "import warnings\n",
    "warnings.filterwarnings('ignore')"
   ]
  },
  {
   "cell_type": "code",
   "execution_count": 2,
   "id": "bf0212e6",
   "metadata": {},
   "outputs": [],
   "source": [
    "scratch_dir = Path('/scratch') / getuser()[0] / getuser() / 'mhws' "
   ]
  },
  {
   "cell_type": "markdown",
   "id": "b5f13429",
   "metadata": {},
   "source": [
    "## Start Dask Cluster"
   ]
  },
  {
   "cell_type": "code",
   "execution_count": null,
   "id": "310fd2ef",
   "metadata": {},
   "outputs": [],
   "source": [
    "cluster_scratch = Path('/scratch') / getuser()[0] / getuser() / 'clients'\n",
    "dask_tmp_dir = TemporaryDirectory(dir=cluster_scratch)\n",
    "dask.config.set(temporary_directory=dask_tmp_dir.name)"
   ]
  },
  {
   "cell_type": "code",
   "execution_count": 4,
   "id": "80e3e423",
   "metadata": {},
   "outputs": [],
   "source": [
    "# ## Local Cluster\n",
    "# cluster = LocalCluster(n_workers=32, threads_per_worker=4)\n",
    "# client = Client(cluster)\n",
    "\n",
    "# remote_node = subprocess.run(['hostname'], capture_output=True, text=True).stdout.strip().split('.')[0]\n",
    "# port = re.search(r':(\\d+)/', client.dashboard_link).group(1)\n",
    "# print(f\"Forward with Port = {remote_node}:{port}\")\n",
    "\n",
    "# client.dashboard_link"
   ]
  },
  {
   "cell_type": "code",
   "execution_count": null,
   "id": "f9c7f6a3",
   "metadata": {},
   "outputs": [],
   "source": [
    "scale = 256\n",
    "node_memory = 512\n",
    "\n",
    "if node_memory == 512:\n",
    "    client_memory = '500GB'\n",
    "    constraint_memory = '512'\n",
    "elif node_memory == 1024:\n",
    "    client_memory = '1000GB'\n",
    "    constraint_memory = '1024'\n",
    "\n",
    "## Distributed Cluster (without GPU)\n",
    "clusterDistributed = SLURMCluster(name='dask-cluster',\n",
    "                                    cores=32,\n",
    "                                    memory='230GB',\n",
    "                                    processes=64,  # 2 threads\n",
    "                                    interface='ib0',\n",
    "                                    queue='compute',\n",
    "                                    account='bk1377',\n",
    "                                    walltime='00:59:00',\n",
    "                                    asynchronous=0,\n",
    "                                    #job_extra_directives = [f'--constraint={constraint_memory}G --mem=0'],\n",
    "                                    log_directory=f'/home/b/{getuser()}/.log_trash',\n",
    "                                    local_directory=dask_tmp_dir.name,\n",
    "                                    scheduler_options={'dashboard_address': ':8889'})\n",
    "\n",
    "clusterDistributed.scale(scale)\n",
    "clientDistributed = Client(clusterDistributed)\n",
    "remote_node = subprocess.run(['hostname'], capture_output=True, text=True).stdout.strip().split('.')[0]\n",
    "port = re.search(r':(\\d+)/', clientDistributed.dashboard_link).group(1)\n",
    "print(f\"Forward Port = {remote_node}:{port}\")\n",
    "print(f\"localhost:{port}/status\")"
   ]
  },
  {
   "cell_type": "markdown",
   "id": "b0b29f1d-a7f3-4db5-bab3-a7785d4da7e1",
   "metadata": {},
   "source": [
    "## Load Pre-processed Data\n",
    "(cf. `01_preprocess_unstruct.ipynb`)"
   ]
  },
  {
   "cell_type": "code",
   "execution_count": 6,
   "id": "66a21e23-427a-4f6f-9a91-fa2ae628f148",
   "metadata": {
    "tags": []
   },
   "outputs": [],
   "source": [
    "chunk_size = {'time': 2, 'ncells': -1}\n",
    "time_subset = slice(0,-1)\n",
    "ds = xr.open_zarr(str(scratch_dir / '01_preprocess_unstruct.zarr'), chunks=chunk_size).drop_vars({'decimal_year', 'dayofyear'}).isel(time=time_subset)"
   ]
  },
  {
   "cell_type": "code",
   "execution_count": null,
   "id": "14473bb1",
   "metadata": {
    "tags": []
   },
   "outputs": [],
   "source": [
    "binary_out = ds.features_notrend.drop_vars({'lat','lon'})\n",
    "binary_out"
   ]
  },
  {
   "cell_type": "code",
   "execution_count": 8,
   "id": "15792632",
   "metadata": {},
   "outputs": [],
   "source": [
    "mask = ds.mask.drop_vars({'lat','lon'}).compute().data"
   ]
  },
  {
   "cell_type": "markdown",
   "id": "466489f9",
   "metadata": {},
   "source": [
    "## Run Tracker"
   ]
  },
  {
   "cell_type": "code",
   "execution_count": 9,
   "id": "3a43396c",
   "metadata": {},
   "outputs": [],
   "source": [
    "# Tracking Parameters\n",
    "threshold_percentile = 0.95\n",
    "min_size_quartile = 0.85      # percent   *NB: At 5km (vs ~25km for regridded data, we find many more very small objects!)\n",
    "radius = 100.0                # km\n",
    "resolution = 5.0              # km"
   ]
  },
  {
   "cell_type": "code",
   "execution_count": 10,
   "id": "e8c3399c",
   "metadata": {},
   "outputs": [],
   "source": [
    "tracker = ocetrac_unstruct.Tracker(binary_out, scratch_dir=str(scratch_dir / 'ocetrac_unstruct_scratch'), radius=radius, resolution=resolution, min_size_quartile=min_size_quartile, timedim='time', xdim='ncells', neighbours=ds.neighbours, land_mask=mask)"
   ]
  },
  {
   "cell_type": "code",
   "execution_count": 11,
   "id": "0541bdd6",
   "metadata": {},
   "outputs": [],
   "source": [
    "blobs = tracker.track()"
   ]
  },
  {
   "cell_type": "code",
   "execution_count": null,
   "id": "fb1f56d3",
   "metadata": {},
   "outputs": [],
   "source": [
    "blobs.attrs"
   ]
  },
  {
   "cell_type": "markdown",
   "id": "62e4325b",
   "metadata": {},
   "source": [
    "## Save Blobs"
   ]
  },
  {
   "cell_type": "code",
   "execution_count": null,
   "id": "3f21d569",
   "metadata": {},
   "outputs": [],
   "source": [
    "blobs.to_netcdf(scratch_dir / '02_tracked_unstruct.nc', mode='w')"
   ]
  },
  {
   "cell_type": "code",
   "execution_count": null,
   "metadata": {},
   "outputs": [],
   "source": [
    "clientDistributed.close()"
   ]
  }
 ],
 "metadata": {
  "kernelspec": {
   "display_name": "Python 3 (ipykernel)",
   "language": "python",
   "name": "python3"
  },
  "language_info": {
   "codemirror_mode": {
    "name": "ipython",
    "version": 3
   },
   "file_extension": ".py",
   "mimetype": "text/x-python",
   "name": "python",
   "nbconvert_exporter": "python",
   "pygments_lexer": "ipython3",
   "version": "3.10.12"
  }
 },
 "nbformat": 4,
 "nbformat_minor": 5
}
