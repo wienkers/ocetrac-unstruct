{
 "cells": [
  {
   "cell_type": "markdown",
   "id": "5b7d3a1a",
   "metadata": {},
   "source": [
    "# Use `ocetrac-unstruct` to identify and track marine heatwaves\n",
    "This example using 40 years of Daily outputs at 5km native grid resolution takes ~ minutes on 128 cores."
   ]
  },
  {
   "cell_type": "code",
   "execution_count": 1,
   "id": "6b337539",
   "metadata": {},
   "outputs": [
    {
     "name": "stdout",
     "output_type": "stream",
     "text": [
      "----Start loading pyicon.\n",
      "----Start loading pyicon.\n",
      "----Pyicon was loaded successfully.\n",
      "----Pyicon was loaded successfully.\n"
     ]
    }
   ],
   "source": [
    "import xarray as xr\n",
    "import numpy as np\n",
    "import dask\n",
    "import ocetrac_unstruct\n",
    "import pyicon as pyic  # Necessary for unstructured plotting of ICON data\n",
    "\n",
    "from tempfile import TemporaryDirectory\n",
    "from getpass import getuser\n",
    "from pathlib import Path\n",
    "from dask.distributed import Client, LocalCluster\n",
    "import subprocess\n",
    "import re\n",
    "\n",
    "import warnings\n",
    "warnings.filterwarnings('ignore')"
   ]
  },
  {
   "cell_type": "code",
   "execution_count": 2,
   "id": "bf0212e6",
   "metadata": {},
   "outputs": [],
   "source": [
    "scratch_dir = Path('/scratch') / getuser()[0] / getuser() / 'mhws' \n",
    "zarr_fpath_tgrid = scratch_dir  / f'fpath_tgrid.zarr'"
   ]
  },
  {
   "cell_type": "markdown",
   "id": "b5f13429",
   "metadata": {},
   "source": [
    "## Start Dask Cluster"
   ]
  },
  {
   "cell_type": "code",
   "execution_count": 3,
   "id": "310fd2ef",
   "metadata": {},
   "outputs": [],
   "source": [
    "cluster_scratch = Path('/scratch') / getuser()[0] / getuser() / 'clients'\n",
    "dask_tmp_dir = TemporaryDirectory(dir=cluster_scratch)\n",
    "dask.config.set(temporary_directory=dask_tmp_dir.name)\n",
    "\n",
    "## Local Cluster\n",
    "cluster = LocalCluster(n_workers=16, threads_per_worker=4)\n",
    "client = Client(cluster)\n",
    "\n",
    "remote_node = subprocess.run(['hostname'], capture_output=True, text=True).stdout.strip().split('.')[0]\n",
    "port = re.search(r':(\\d+)/', client.dashboard_link).group(1)\n",
    "print(f\"Forward with Port = {remote_node}:{port}\")\n",
    "\n",
    "client.dashboard_link"
   ]
  },
  {
   "cell_type": "markdown",
   "id": "b0b29f1d-a7f3-4db5-bab3-a7785d4da7e1",
   "metadata": {},
   "source": [
    "## Load Pre-processed Data\n",
    "(cf. `01_preprocess_unstruct.ipynb`)"
   ]
  },
  {
   "cell_type": "code",
   "execution_count": 4,
   "id": "66a21e23-427a-4f6f-9a91-fa2ae628f148",
   "metadata": {
    "tags": []
   },
   "outputs": [],
   "source": [
    "chunk_size = {'time': 10, 'ncells': -1}\n",
    "time_subset = slice(0,200)\n",
    "ds = xr.open_zarr(str(scratch_dir / '01_preprocess_unstruct.zarr'), chunks=chunk_size).isel(time=time_subset)"
   ]
  },
  {
   "cell_type": "code",
   "execution_count": null,
   "id": "14473bb1",
   "metadata": {
    "tags": []
   },
   "outputs": [],
   "source": [
    "binary_out = ds.features_notrend.persist()\n",
    "binary_out"
   ]
  },
  {
   "cell_type": "code",
   "execution_count": null,
   "id": "15792632",
   "metadata": {},
   "outputs": [],
   "source": [
    "mask = ds.mask.compute()"
   ]
  },
  {
   "cell_type": "code",
   "execution_count": 7,
   "id": "959578d0",
   "metadata": {},
   "outputs": [],
   "source": [
    "# binary_out.isel(time=0).pyic.plot(fpath_tgrid=zarr_fpath_tgrid)"
   ]
  },
  {
   "cell_type": "markdown",
   "id": "466489f9",
   "metadata": {},
   "source": [
    "## Run Tracker"
   ]
  },
  {
   "cell_type": "code",
   "execution_count": 8,
   "id": "3a43396c",
   "metadata": {},
   "outputs": [],
   "source": [
    "# Tracking Parameters\n",
    "threshold_percentile = 0.95\n",
    "min_size_quartile = 0.5       # percent\n",
    "radius = 100.0                # km\n",
    "resolution = 5.0              # km"
   ]
  },
  {
   "cell_type": "code",
   "execution_count": 9,
   "id": "e8c3399c",
   "metadata": {},
   "outputs": [],
   "source": [
    "tracker = ocetrac_unstruct.Tracker(binary_out, radius=radius, resolution=resolution, min_size_quartile=min_size_quartile, timedim='time', xdim='ncells', neighbours=ds.neighbours, land_mask=mask)"
   ]
  },
  {
   "cell_type": "code",
   "execution_count": null,
   "id": "e138b0ef",
   "metadata": {},
   "outputs": [],
   "source": [
    "blobs = tracker.track()"
   ]
  },
  {
   "cell_type": "code",
   "execution_count": 10,
   "id": "bfb42113",
   "metadata": {},
   "outputs": [],
   "source": [
    "blobs.attrs"
   ]
  },
  {
   "cell_type": "markdown",
   "metadata": {},
   "source": [
    "## Save Blobs"
   ]
  },
  {
   "cell_type": "code",
   "execution_count": 11,
   "id": "7dae530c",
   "metadata": {},
   "outputs": [],
   "source": [
    "# blobs.to_netcdf(scratch_dir / '02_tracked_unstruct.nc', mode='w')"
   ]
  }
 ],
 "metadata": {
  "kernelspec": {
   "display_name": "Python 3 (ipykernel)",
   "language": "python",
   "name": "python3"
  },
  "language_info": {
   "codemirror_mode": {
    "name": "ipython",
    "version": 3
   },
   "file_extension": ".py",
   "mimetype": "text/x-python",
   "name": "python",
   "nbconvert_exporter": "python",
   "pygments_lexer": "ipython3",
   "version": "3.10.12"
  }
 },
 "nbformat": 4,
 "nbformat_minor": 5
}
