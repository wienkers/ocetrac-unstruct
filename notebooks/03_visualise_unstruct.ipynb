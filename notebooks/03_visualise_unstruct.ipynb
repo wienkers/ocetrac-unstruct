{
 "cells": [
  {
   "cell_type": "markdown",
   "metadata": {},
   "source": [
    "# Visualise the tracked MHWs"
   ]
  },
  {
   "cell_type": "code",
   "execution_count": null,
   "metadata": {},
   "outputs": [],
   "source": [
    "import xarray as xr\n",
    "import numpy as np\n",
    "import matplotlib.pylab as plt\n",
    "import matplotlib.cm as cm\n",
    "import cartopy\n",
    "import cartopy.crs as ccrs\n",
    "import cartopy.feature as cfeature\n",
    "\n",
    "from tempfile import TemporaryDirectory\n",
    "from getpass import getuser\n",
    "from pathlib import Path\n",
    "from dask.distributed import Client, LocalCluster\n",
    "import subprocess\n",
    "import re\n",
    "\n",
    "import dask\n",
    "import pyicon as pyic  # Necessary for unstructured plotting of ICON data\n",
    "import matplotlib.pyplot as plt\n",
    "from matplotlib.colors import ListedColormap"
   ]
  },
  {
   "cell_type": "code",
   "execution_count": 2,
   "id": "334453b0",
   "metadata": {},
   "outputs": [],
   "source": [
    "scratch_dir = Path('/scratch') / getuser()[0] / getuser() / 'mhws' \n",
    "zarr_fpath_tgrid = scratch_dir  / f'fpath_tgrid.zarr'"
   ]
  },
  {
   "cell_type": "markdown",
   "id": "ebd74e4d",
   "metadata": {},
   "source": [
    "## Start Dask Cluster"
   ]
  },
  {
   "cell_type": "code",
   "execution_count": null,
   "id": "7df4418b",
   "metadata": {},
   "outputs": [],
   "source": [
    "cluster_scratch = Path('/scratch') / getuser()[0] / getuser() / 'clients'\n",
    "dask_tmp_dir = TemporaryDirectory(dir=cluster_scratch)\n",
    "dask.config.set(temporary_directory=dask_tmp_dir.name)\n",
    "\n",
    "## Local Cluster\n",
    "cluster = LocalCluster(n_workers=32, threads_per_worker=4)\n",
    "client = Client(cluster)\n",
    "\n",
    "remote_node = subprocess.run(['hostname'], capture_output=True, text=True).stdout.strip().split('.')[0]\n",
    "port = re.search(r':(\\d+)/', client.dashboard_link).group(1)\n",
    "print(f\"Forward with Port = {remote_node}:{port}\")\n",
    "\n",
    "client.dashboard_link"
   ]
  },
  {
   "cell_type": "markdown",
   "metadata": {},
   "source": [
    "## Import Processed Data"
   ]
  },
  {
   "cell_type": "code",
   "execution_count": 4,
   "metadata": {},
   "outputs": [],
   "source": [
    "blobs = xr.open_zarr(str(scratch_dir / '02_final_labels.zarr'), chunks={'time': 10, 'ncells': -1}).labels\n",
    "blobs"
   ]
  },
  {
   "cell_type": "code",
   "execution_count": 5,
   "metadata": {},
   "outputs": [],
   "source": [
    "ds = xr.open_zarr(str(scratch_dir / '01_preprocess_unstruct.zarr'), chunks={'time': 10, 'ncells': -1})\n",
    "ds"
   ]
  },
  {
   "cell_type": "markdown",
   "id": "2cd0fd1d",
   "metadata": {},
   "source": [
    "## Plot some Blobs"
   ]
  },
  {
   "cell_type": "code",
   "execution_count": 20,
   "id": "34d9815a",
   "metadata": {},
   "outputs": [],
   "source": [
    "blobs_first_day = blobs.sel(time=slice('2020-01-01', '2021-01-01')).resample(time='MS').first() \n",
    "\n",
    "plt.rc('text', usetex=False)  # Use built-in math text rendering\n",
    "plt.rc('font', family='serif')\n",
    "\n",
    "cmap = 'tab20c'\n",
    "\n",
    "fig = plt.figure(figsize=(21,5))\n",
    "fig.set_facecolor('w')\n",
    "\n",
    "ax1 = plt.subplot(1,3,1,projection=ccrs.Robinson())\n",
    "cb1 = fig.colorbar(cm.ScalarMappable(cmap=cmap), ax=ax1, shrink=0.6)\n",
    "blobs_first_day.isel(time=0).pyic.plot(ax=ax1,cax=cb1.ax, cbar_pos='vertical', res=0.1, cmap=cmap)\n",
    "ax1.add_feature(cfeature.LAND,facecolor='darkgrey')\n",
    "ax1.coastlines()\n",
    "gl1 = ax1.gridlines(crs=ccrs.PlateCarree(), draw_labels=True,\n",
    "                linewidth=1, color='gray', alpha=0.5, linestyle='--')\n",
    "\n",
    "\n",
    "ax2 = plt.subplot(1,3,2,projection=ccrs.Robinson())\n",
    "cb2 = fig.colorbar(cm.ScalarMappable(cmap=cmap), ax=ax2, shrink=0.6)\n",
    "blobs_first_day.isel(time=1).pyic.plot(ax=ax2,cax=cb2.ax, cbar_pos='vertical', res=0.1, cmap=cmap)\n",
    "ax2.add_feature(cfeature.LAND,facecolor='darkgrey')\n",
    "ax2.coastlines()\n",
    "gl2 = ax2.gridlines(crs=ccrs.PlateCarree(), draw_labels=True,\n",
    "                linewidth=1, color='gray', alpha=0.5, linestyle='--')\n",
    "\n",
    "\n",
    "\n",
    "ax3 = plt.subplot(1,3,3,projection=ccrs.Robinson())\n",
    "cb3 = fig.colorbar(cm.ScalarMappable(cmap=cmap), ax=ax3, shrink=0.6)\n",
    "blobs_first_day.isel(time=3).pyic.plot(ax=ax3,cax=cb3.ax, cbar_pos='vertical', res=0.1, cmap=cmap)\n",
    "ax3.add_feature(cfeature.LAND,facecolor='darkgrey')\n",
    "ax3.coastlines()\n",
    "gl3 = ax3.gridlines(crs=ccrs.PlateCarree(), draw_labels=True,\n",
    "                linewidth=1, color='gray', alpha=0.5, linestyle='--')"
   ]
  },
  {
   "cell_type": "markdown",
   "id": "76e6daa4",
   "metadata": {},
   "source": [
    "## Global MHW Frequency"
   ]
  },
  {
   "cell_type": "code",
   "execution_count": 9,
   "id": "0ab2798a",
   "metadata": {},
   "outputs": [],
   "source": [
    "mhw_frequency = xr.where((blobs == 0) | np.isnan(blobs), 0.0, 1.0).mean('time')\n",
    "mhw_frequency.pyic.plot(cmap='hot_r', fpath_tgrid=zarr_fpath_tgrid)"
   ]
  },
  {
   "cell_type": "markdown",
   "id": "0656fc37",
   "metadata": {},
   "source": [
    "## Plot STD Rolling Mean used for Normalisation"
   ]
  },
  {
   "cell_type": "code",
   "execution_count": 10,
   "id": "36d5e7e4",
   "metadata": {},
   "outputs": [],
   "source": [
    "ds.stdev.isel(ncells=10000).plot()"
   ]
  },
  {
   "cell_type": "markdown",
   "id": "1bb4209c",
   "metadata": {},
   "source": [
    "## Find the longest MHWs"
   ]
  },
  {
   "cell_type": "code",
   "execution_count": 11,
   "id": "990035b1",
   "metadata": {},
   "outputs": [],
   "source": [
    "final_objects_tracked = blobs.attrs['Final Objects Tracked']\n",
    "labels = np.arange(final_objects_tracked)\n",
    "\n",
    "occurrence_array = xr.apply_ufunc(\n",
    "    lambda blobs_data, labels: np.isin(labels, blobs_data[..., np.newaxis]),  # Check presence...\n",
    "    blobs,\n",
    "    input_core_dims=[['ncells']],\n",
    "    output_core_dims=[['label']],\n",
    "    vectorize=True,\n",
    "    dask='parallelized',\n",
    "    output_dtypes=[bool],\n",
    "    output_sizes={'label': final_objects_tracked},\n",
    "    kwargs={'labels': labels}\n",
    ")"
   ]
  },
  {
   "cell_type": "code",
   "execution_count": 12,
   "metadata": {},
   "outputs": [],
   "source": [
    "label_occurrence = occurrence_array.sum(dim='time').compute()"
   ]
  },
  {
   "cell_type": "code",
   "execution_count": 13,
   "metadata": {},
   "outputs": [],
   "source": [
    "longest_mhws = label_occurrence.argsort()[::-1]"
   ]
  },
  {
   "cell_type": "code",
   "execution_count": 14,
   "id": "e92a9d28",
   "metadata": {},
   "outputs": [],
   "source": [
    "for label in longest_mhws[:10].values:\n",
    "    print(f\"Label: {label}, Time: {label_occurrence.sel(label=label).item()} days\")"
   ]
  },
  {
   "cell_type": "markdown",
   "id": "819dacb2",
   "metadata": {},
   "source": [
    "## Plot a few long MHWs"
   ]
  },
  {
   "cell_type": "code",
   "execution_count": 16,
   "id": "b9cf4612",
   "metadata": {},
   "outputs": [],
   "source": [
    "fig, axes = plt.subplots(3, 3, figsize=(12, 12))\n",
    "axes = axes.flatten()\n",
    "\n",
    "for i, label in enumerate(longest_mhws[:9]):\n",
    "    ax = axes[i]\n",
    "    mhw_intensity = xr.where(blobs == longest_mhws[i], 1, 0).sum(dim='time')\n",
    "    mhw_intensity.isel(time=i).pyic.plot(ax=ax, cbar_pos='vertical', cmap='hot_r', cbar_str='Duration (days)', fpath_tgrid=zarr_fpath_tgrid)\n",
    "    ax.set_title(f'Label: {label}',size=14)\n",
    "\n",
    "# Adjust layout\n",
    "plt.tight_layout()\n",
    "plt.show()"
   ]
  }
 ],
 "metadata": {
  "kernelspec": {
   "display_name": "Python 3 (ipykernel)",
   "language": "python",
   "name": "python3"
  }
 },
 "nbformat": 4,
 "nbformat_minor": 5
}
